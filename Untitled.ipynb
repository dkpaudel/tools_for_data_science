{
 "cells": [
  {
   "cell_type": "markdown",
   "id": "82455356-2093-4c36-95b2-640fcc584a78",
   "metadata": {},
   "source": [
    "# Tools for Data Science"
   ]
  },
  {
   "cell_type": "markdown",
   "id": "7259a61a-c162-4513-910e-756619eaf41c",
   "metadata": {},
   "source": [
    "This notebook outlines important tools and libraries used in data science."
   ]
  },
  {
   "cell_type": "markdown",
   "id": "de9f8e6e-42db-4c51-98a3-e1364b1a6c1d",
   "metadata": {},
   "source": [
    "Data Science Languages\n",
    "1. Python\n",
    "2. R\n",
    "3. SQL\n",
    "4. Java\n",
    "5. Julia"
   ]
  },
  {
   "cell_type": "markdown",
   "id": "cb9e6664-8938-4274-be77-3280de73cf9a",
   "metadata": {},
   "source": [
    "Data Science Libraries\n",
    "1. Pandas\n",
    "2. NumPy\n",
    "3. TensorFlow\n",
    "4. PyTorch\n",
    "5. Matplotlib\n",
    "6. Scikit-learn"
   ]
  },
  {
   "cell_type": "markdown",
   "id": "734d2cb0-7ed1-469f-8832-fab3b04b4dd0",
   "metadata": {},
   "source": [
    "|    Tools   |\n",
    "|------------|\n",
    "|R Studio| \n",
    "|Spyder|\n",
    "|Zeppelin|\n",
    "|Jupyter Notebooks|\n",
    "|Anaconda|\n",
    "\n"
   ]
  },
  {
   "cell_type": "markdown",
   "id": "d50f802a-19bd-4f1c-ad9e-36b236abc7ef",
   "metadata": {},
   "source": [
    "### Some examples of evaluating arithmetic expressions are given below:"
   ]
  },
  {
   "cell_type": "code",
   "execution_count": 2,
   "id": "4390c2fb-1404-4e97-a1ed-dc6c3ae23716",
   "metadata": {},
   "outputs": [
    {
     "data": {
      "text/plain": [
       "17"
      ]
     },
     "execution_count": 2,
     "metadata": {},
     "output_type": "execute_result"
    }
   ],
   "source": [
    "# Multiplication followed by addition\n",
    "(3*4)+5"
   ]
  },
  {
   "cell_type": "code",
   "execution_count": 3,
   "id": "99612956-49b1-46f7-89c0-cf152e6c8c3f",
   "metadata": {},
   "outputs": [
    {
     "data": {
      "text/plain": [
       "3.0"
      ]
     },
     "execution_count": 3,
     "metadata": {},
     "output_type": "execute_result"
    }
   ],
   "source": [
    "# Conversion of minutes into hours\n",
    "minutes=180\n",
    "hours=minutes/60\n",
    "hours"
   ]
  },
  {
   "cell_type": "markdown",
   "id": "a3ac03f2-f2f9-4007-86c7-6ab5becddb31",
   "metadata": {},
   "source": [
    "## Objectives\n",
    "- Learn some important data science languages\n",
    "- Learn some important data science libaries\n",
    "- Create markdown cells\n",
    "- Add ordered and unordered lists to markdown cells"
   ]
  },
  {
   "cell_type": "markdown",
   "id": "44f6b010-e3a6-4572-afe0-530ba5efa425",
   "metadata": {},
   "source": [
    "## Author\n",
    "Dinesh Paudel"
   ]
  },
  {
   "cell_type": "code",
   "execution_count": null,
   "id": "0befeacd-b69f-47ba-8143-5b3c27a729de",
   "metadata": {},
   "outputs": [],
   "source": []
  }
 ],
 "metadata": {
  "kernelspec": {
   "display_name": "Python 3 (ipykernel)",
   "language": "python",
   "name": "python3"
  },
  "language_info": {
   "codemirror_mode": {
    "name": "ipython",
    "version": 3
   },
   "file_extension": ".py",
   "mimetype": "text/x-python",
   "name": "python",
   "nbconvert_exporter": "python",
   "pygments_lexer": "ipython3",
   "version": "3.11.5"
  }
 },
 "nbformat": 4,
 "nbformat_minor": 5
}
